{
 "cells": [
  {
   "cell_type": "markdown",
   "metadata": {},
   "source": [
    "# MegaHack - Gorila - Time 10\n",
    "\n",
    "## Determinação de perfil de investimento (Suitability) utilizando ML\n",
    "\n",
    "O conceito que norteia a determinação de nosso perfil de investimento é a multidimensionalidade do modelo.\n",
    "\n",
    "As perguntas estão disponíveis na plataforma - https://gorila-suite.com.br\n",
    "\n",
    "O modelo foi construído sobre 3 arquétipos diferentes:\n",
    "#### A - Monitoramento & Conhecimento sobre investimentos\n",
    "Determina a forma com que o assessor deveria tratar a comunicação com o cliente.\n",
    "#### B -  Reação à perda & Expectativa de retorno\n",
    "Determina a pretenção ao risco sem questionar diretamente sobre o conceito abstrato de risco.\n",
    "#### C - Necessidade de Liquidez & Visão de longo prazo\n",
    "Determina a percepção de tempo em relação aos investimentos.\n",
    "#### Os três modelos, juntos determinam um arquétipo combinado que auxilia na orientação do assessor de investimentos.\n"
   ]
  },
  {
   "cell_type": "markdown",
   "metadata": {},
   "source": [
    "\n",
    "O algoritmo desenvolvido tem algumas limitações:\n",
    " - **data-set** usado para a construção do perfil foi coletado em poucos dias e não tem uma quantidade significativa o suficiente para o modelo ser considerado válido\n",
    " - **método** a forma correta de tornar os perfis mais acertivos será coletar esses dados de inputs vindos de ambos usuário e assessor para aferir o perfil de forma mais direcionada. Assim, o modelo melhora com o tempo.\n",
    " - **perguntas** as perguntas utilizadas para aferir o perfil não tem embasamento em pesquisas ou histórico de respostas, apenas baseam-se em informações tidas como importantes para o suitability.\n",
    " - **clustering não supervisionado** o modelo considera um modelo popular não supervisionado, o K-Means cria cluster arbitrariamente, sem necessariamente um embasamento no mundo real.\n",
    " \n",
    "Seguimos dessa forma devido à limitação de tempo para a execução do projeto. Mas acreditamos que essa estratégia possa auxiliar muito o trabalho dos assessores de investimento."
   ]
  },
  {
   "cell_type": "code",
   "execution_count": 2,
   "metadata": {},
   "outputs": [],
   "source": [
    "%matplotlib inline\n",
    "import matplotlib.pyplot as plt\n",
    "import numpy as np\n",
    "from scipy import stats\n",
    "import pandas as pd\n",
    "import pickle\n",
    "from sklearn.cluster import KMeans\n",
    "from sklearn.tree import DecisionTreeClassifier\n",
    "\n",
    "data = pd.read_csv(\"./data2.csv\")"
   ]
  },
  {
   "cell_type": "code",
   "execution_count": 3,
   "metadata": {},
   "outputs": [],
   "source": [
    "X1 = np.array(data)\n",
    "X1 = np.delete(X1, 14, 0)\n",
    "X1 = np.delete(X1, 0, 1)\n",
    "X1 = np.delete(X1, 0, 1)\n",
    "X1 = np.delete(X1, 0, 1)"
   ]
  },
  {
   "cell_type": "code",
   "execution_count": 4,
   "metadata": {},
   "outputs": [],
   "source": [
    "def visualize_classifier(model, X, y, ax=None, cmap='rainbow'):\n",
    "    ax = ax or plt.gca()\n",
    "    \n",
    "    ax.scatter(X[:, 0], X[:, 1], c=y, s=30, cmap=cmap,\n",
    "               clim=(y.min(), y.max()), zorder=3)\n",
    "    ax.axis('tight')\n",
    "    ax.axis('off')\n",
    "    xlim = ax.get_xlim()\n",
    "    ylim = ax.get_ylim()\n",
    "    \n",
    "    # fit the estimator\n",
    "    model.fit(X, y)\n",
    "    xx, yy = np.meshgrid(np.linspace(*xlim, num=200),\n",
    "                         np.linspace(*ylim, num=200))\n",
    "    Z = model.predict(np.c_[xx.ravel(), yy.ravel()]).reshape(xx.shape)\n",
    "\n",
    "    n_classes = len(np.unique(y))\n",
    "    contours = ax.contourf(xx, yy, Z, alpha=0.3,\n",
    "                           levels=np.arange(n_classes + 1) - 0.5,\n",
    "                           cmap=cmap, clim=(y.min(), y.max()),\n",
    "                           zorder=1)\n",
    "\n",
    "    ax.set(xlim=xlim, ylim=ylim)"
   ]
  },
  {
   "cell_type": "markdown",
   "metadata": {},
   "source": [
    "## Modelo A\n",
    "### Monitoramento & Conhecimento sobre investimentos\n",
    "\n",
    "As perguntas utilizadas "
   ]
  },
  {
   "cell_type": "code",
   "execution_count": 5,
   "metadata": {},
   "outputs": [],
   "source": [
    "monitoring = np.sum([i[0:2] for i in X1],1)\n",
    "knowledge = np.sum([i[2:5] for i in X1],1)\n",
    "A = []\n",
    "for i in range(len(monitoring)):\n",
    "    A.append([monitoring[i],knowledge[i]])\n",
    "A = np.array(A)"
   ]
  },
  {
   "cell_type": "code",
   "execution_count": 6,
   "metadata": {},
   "outputs": [
    {
     "data": {
      "image/png": "[encoded data removed]",
      "text/plain": [
       "<Figure size 432x288 with 1 Axes>"
      ]
     },
     "metadata": {
      "needs_background": "light"
     },
     "output_type": "display_data"
    }
   ],
   "source": [
    "X = A\n",
    "# from sklearn.datasets.samples_generator import make_blobs\n",
    "# X, y_true = make_blobs(n_samples=600, centers=4,\n",
    "#                        cluster_std=0.9, random_state=0)\n",
    "plt.scatter(X[:, 0], X[:, 1], s=50);"
   ]
  },
  {
   "cell_type": "code",
   "execution_count": 7,
   "metadata": {},
   "outputs": [],
   "source": [
    "kmeans = KMeans(n_clusters=3)\n",
    "kmeans.fit(X)\n",
    "y_kmeans = kmeans.predict(X)"
   ]
  },
  {
   "cell_type": "code",
   "execution_count": 8,
   "metadata": {},
   "outputs": [
    {
     "data": {
      "image/png": "[encoded data removed]",
      "text/plain": [
       "<Figure size 432x288 with 1 Axes>"
      ]
     },
     "metadata": {
      "needs_background": "light"
     },
     "output_type": "display_data"
    }
   ],
   "source": [
    "plt.scatter(X[:, 0], X[:, 1], c=y_kmeans, s=50, cmap='viridis')\n",
    "\n",
    "centers = kmeans.cluster_centers_\n",
    "plt.scatter(centers[:, 0], centers[:, 1], c='black', s=200, alpha=0.5);"
   ]
  },
  {
   "cell_type": "code",
   "execution_count": 9,
   "metadata": {},
   "outputs": [
    {
     "name": "stderr",
     "output_type": "stream",
     "text": [
      "/Users/matheusmarotzke/anaconda3/lib/python3.7/site-packages/matplotlib/contour.py:1000: UserWarning: The following kwargs were not used by contour: 'clim'\n",
      "  s)\n"
     ]
    },
    {
     "data": {
      "image/png": "[encoded data removed]",
      "text/plain": [
       "<Figure size 432x288 with 1 Axes>"
      ]
     },
     "metadata": {
      "needs_background": "light"
     },
     "output_type": "display_data"
    }
   ],
   "source": [
    "treeA = DecisionTreeClassifier().fit(X, y_kmeans)\n",
    "visualize_classifier(DecisionTreeClassifier(), X, y_kmeans)"
   ]
  },
  {
   "cell_type": "code",
   "execution_count": 10,
   "metadata": {},
   "outputs": [],
   "source": [
    "# exporting model\n",
    "filename = 'A_model.pkl'\n",
    "pickle.dump(treeA, open(filename, 'wb'))"
   ]
  },
  {
   "cell_type": "markdown",
   "metadata": {},
   "source": [
    "## Modelo B\n",
    "### Reação à perda & Expectativa de retorno"
   ]
  },
  {
   "cell_type": "code",
   "execution_count": 11,
   "metadata": {},
   "outputs": [],
   "source": [
    "reaction_to_loss = np.array([i[5]+i[8] for i in X1])\n",
    "returns_expectation = np.array([i[5]+i[6] for i in X1])\n",
    "B = []\n",
    "for i in range(len(reaction_to_loss)):\n",
    "    B.append([reaction_to_loss[i],returns_expectation[i]])\n",
    "B = np.array(B)"
   ]
  },
  {
   "cell_type": "code",
   "execution_count": 12,
   "metadata": {},
   "outputs": [
    {
     "data": {
      "image/png": "[encoded data removed]",
      "text/plain": [
       "<Figure size 432x288 with 1 Axes>"
      ]
     },
     "metadata": {
      "needs_background": "light"
     },
     "output_type": "display_data"
    }
   ],
   "source": [
    "X = B\n",
    "plt.scatter(X[:, 0], X[:, 1], s=50);"
   ]
  },
  {
   "cell_type": "code",
   "execution_count": 13,
   "metadata": {},
   "outputs": [],
   "source": [
    "kmeans = KMeans(n_clusters=3)\n",
    "kmeans.fit(X)\n",
    "y_kmeans = kmeans.predict(X)"
   ]
  },
  {
   "cell_type": "code",
   "execution_count": 14,
   "metadata": {},
   "outputs": [
    {
     "data": {
      "image/png": "[encoded data removed]",
      "text/plain": [
       "<Figure size 432x288 with 1 Axes>"
      ]
     },
     "metadata": {
      "needs_background": "light"
     },
     "output_type": "display_data"
    }
   ],
   "source": [
    "plt.scatter(X[:, 0], X[:, 1], c=y_kmeans, s=50, cmap='viridis')\n",
    "\n",
    "centers = kmeans.cluster_centers_\n",
    "plt.scatter(centers[:, 0], centers[:, 1], c='black', s=200, alpha=0.5);"
   ]
  },
  {
   "cell_type": "code",
   "execution_count": 15,
   "metadata": {},
   "outputs": [
    {
     "name": "stderr",
     "output_type": "stream",
     "text": [
      "/Users/matheusmarotzke/anaconda3/lib/python3.7/site-packages/matplotlib/contour.py:1000: UserWarning: The following kwargs were not used by contour: 'clim'\n",
      "  s)\n"
     ]
    },
    {
     "data": {
      "image/png": "[encoded data removed]",
      "text/plain": [
       "<Figure size 432x288 with 1 Axes>"
      ]
     },
     "metadata": {
      "needs_background": "light"
     },
     "output_type": "display_data"
    }
   ],
   "source": [
    "treeB = DecisionTreeClassifier().fit(X, y_kmeans)\n",
    "visualize_classifier(DecisionTreeClassifier(), X, y_kmeans)"
   ]
  },
  {
   "cell_type": "code",
   "execution_count": 16,
   "metadata": {},
   "outputs": [],
   "source": [
    "# exporting model\n",
    "filename = 'B_model.pkl'\n",
    "pickle.dump(treeB, open(filename, 'wb'))"
   ]
  },
  {
   "cell_type": "markdown",
   "metadata": {},
   "source": [
    "## Modelo C\n",
    "### Necessidade de Liquidez & Visão de longo prazo"
   ]
  },
  {
   "cell_type": "code",
   "execution_count": 17,
   "metadata": {},
   "outputs": [],
   "source": [
    "liquidity = np.array([i[7]+i[5] for i in X1])\n",
    "long_term = np.array([i[9]+i[5] for i in X1])\n",
    "C = []\n",
    "for i in range(len(liquidity)):\n",
    "    C.append([liquidity[i],long_term[i]])\n",
    "C = np.array(C)"
   ]
  },
  {
   "cell_type": "code",
   "execution_count": 18,
   "metadata": {},
   "outputs": [
    {
     "data": {
      "image/png": "[encoded data removed]",
      "text/plain": [
       "<Figure size 432x288 with 1 Axes>"
      ]
     },
     "metadata": {
      "needs_background": "light"
     },
     "output_type": "display_data"
    }
   ],
   "source": [
    "X = C\n",
    "# from sklearn.datasets.samples_generator import make_blobs\n",
    "# X, y_true = make_blobs(n_samples=600, centers=4,\n",
    "#                        cluster_std=0.9, random_state=0)\n",
    "plt.scatter(X[:, 0], X[:, 1], s=50);"
   ]
  },
  {
   "cell_type": "code",
   "execution_count": 19,
   "metadata": {},
   "outputs": [],
   "source": [
    "kmeans = KMeans(n_clusters=3)\n",
    "kmeans.fit(X)\n",
    "y_kmeans = kmeans.predict(X)"
   ]
  },
  {
   "cell_type": "code",
   "execution_count": 20,
   "metadata": {},
   "outputs": [
    {
     "data": {
      "image/png": "[encoded data removed]",
      "text/plain": [
       "<Figure size 432x288 with 1 Axes>"
      ]
     },
     "metadata": {
      "needs_background": "light"
     },
     "output_type": "display_data"
    }
   ],
   "source": [
    "plt.scatter(X[:, 0], X[:, 1], c=y_kmeans, s=50, cmap='viridis')\n",
    "\n",
    "centers = kmeans.cluster_centers_\n",
    "plt.scatter(centers[:, 0], centers[:, 1], c='black', s=200, alpha=0.5);"
   ]
  },
  {
   "cell_type": "code",
   "execution_count": 21,
   "metadata": {},
   "outputs": [
    {
     "name": "stderr",
     "output_type": "stream",
     "text": [
      "/Users/matheusmarotzke/anaconda3/lib/python3.7/site-packages/matplotlib/contour.py:1000: UserWarning: The following kwargs were not used by contour: 'clim'\n",
      "  s)\n"
     ]
    },
    {
     "data": {
      "image/png": "[encoded data removed]",
      "text/plain": [
       "<Figure size 432x288 with 1 Axes>"
      ]
     },
     "metadata": {
      "needs_background": "light"
     },
     "output_type": "display_data"
    }
   ],
   "source": [
    "treeC = DecisionTreeClassifier().fit(X, y_kmeans)\n",
    "visualize_classifier(DecisionTreeClassifier(), X, y_kmeans)"
   ]
  },
  {
   "cell_type": "code",
   "execution_count": 22,
   "metadata": {},
   "outputs": [],
   "source": [
    "# exporting model\n",
    "filename = 'C_model.pkl'\n",
    "pickle.dump(treeC, open(filename, 'wb'))"
   ]
  },
  {
   "cell_type": "markdown",
   "metadata": {},
   "source": [
    "### ML REF:\n",
    "K-MEANS\n",
    "\n",
    "https://jakevdp.github.io/PythonDataScienceHandbook/05.11-k-means.html\n",
    "\n",
    "DECISION TREE\n",
    "\n",
    "https://jakevdp.github.io/PythonDataScienceHandbook/05.08-random-forests.html"
   ]
  },
  {
   "cell_type": "code",
   "execution_count": null,
   "metadata": {},
   "outputs": [],
   "source": []
  }
 ],
 "metadata": {
  "kernelspec": {
   "display_name": "Python 3",
   "language": "python",
   "name": "python3"
  },
  "language_info": {
   "codemirror_mode": {
    "name": "ipython",
    "version": 3
   },
   "file_extension": ".py",
   "mimetype": "text/x-python",
   "name": "python",
   "nbconvert_exporter": "python",
   "pygments_lexer": "ipython3",
   "version": "3.7.1"
  }
 },
 "nbformat": 4,
 "nbformat_minor": 2
}
